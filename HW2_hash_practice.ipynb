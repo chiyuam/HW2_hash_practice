{
 "cells": [
  {
   "cell_type": "code",
   "execution_count": 10,
   "id": "c4f8e408",
   "metadata": {},
   "outputs": [
    {
     "name": "stdout",
     "output_type": "stream",
     "text": [
      "{'Cheese': 234, 'Pizza': 83, 'Coke': 145, 'Steak': 46, 'Burger': 196, 'Fries': 76, 'Rib': 33, 'Taco': 57, 'Pho': 19, 'Potato': 3}\n"
     ]
    }
   ],
   "source": [
    "data = 'hw2_data.txt'\n",
    "f = open(data,'r')\n",
    "#output一個string給你\n",
    "a = f.read() \n",
    "#把string改成list\n",
    "list_data = a.split()\n",
    "#宣告一個dictionary\n",
    "output = {}\n",
    "'''先用for迴圈依序檢查list裡面的string, 如果現在這個讀到的string之前已經有在dictionary裡面了，那我就把他的value加一\n",
    "   如果發現沒有出現過，就把他的key以初始值1，作為他的value\n",
    "'''\n",
    "for i in list_data :\n",
    "    if(i not in output):\n",
    "        output[i] = 1\n",
    "    else:\n",
    "        output[i] += 1\n",
    "print(output)"
   ]
  },
  {
   "cell_type": "code",
   "execution_count": null,
   "id": "cff592cd",
   "metadata": {},
   "outputs": [],
   "source": []
  }
 ],
 "metadata": {
  "kernelspec": {
   "display_name": "Python 3",
   "language": "python",
   "name": "python3"
  },
  "language_info": {
   "codemirror_mode": {
    "name": "ipython",
    "version": 3
   },
   "file_extension": ".py",
   "mimetype": "text/x-python",
   "name": "python",
   "nbconvert_exporter": "python",
   "pygments_lexer": "ipython3",
   "version": "3.8.8"
  }
 },
 "nbformat": 4,
 "nbformat_minor": 5
}
